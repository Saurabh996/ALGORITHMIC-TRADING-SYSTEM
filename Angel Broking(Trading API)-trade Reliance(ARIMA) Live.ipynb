{
 "cells": [
  {
   "cell_type": "code",
   "execution_count": 1,
   "id": "af98ebc8",
   "metadata": {},
   "outputs": [],
   "source": [
    "from datetime import datetime\n",
    "import winsound #for notification sound\n",
    "from statsmodels.tsa.arima_model import ARIMA\n",
    "\n",
    "#notification sound parameters\n",
    "freq = 600\n",
    "dur = 1000"
   ]
  },
  {
   "cell_type": "code",
   "execution_count": 2,
   "id": "2add1d9b",
   "metadata": {},
   "outputs": [],
   "source": [
    "#financial instrumnet(Rel) specific exchange id"
   ]
  },
  {
   "cell_type": "code",
   "execution_count": 3,
   "id": "destroyed-setup",
   "metadata": {},
   "outputs": [],
   "source": [
    "t = \"2885\"\n",
    "symbol = \"RELIANCE-EQ\""
   ]
  },
  {
   "cell_type": "markdown",
   "id": "a3320370",
   "metadata": {},
   "source": [
    "t = \"3045\"\n",
    "symbol = \"SBIN-EQ\""
   ]
  },
  {
   "cell_type": "code",
   "execution_count": 5,
   "id": "f290a43b",
   "metadata": {},
   "outputs": [],
   "source": [
    "buy_arr = []\n",
    "sell_arr = []\n",
    "profits = []\n",
    "\n",
    "def buy(p):\n",
    "    winsound.Beep(freq, dur)\n",
    "    try:\n",
    "        orderparams = {\n",
    "            \"variety\": \"NORMAL\",\n",
    "            \"tradingsymbol\": \"{}\".format(symbol),\n",
    "            \"symboltoken\": \"{}\".format(t),\n",
    "            \"transactiontype\": \"BUY\",\n",
    "            \"exchange\": \"NSE\",\n",
    "            \"ordertype\": \"MARKET\",\n",
    "            \"producttype\": \"INTRADAY\",\n",
    "            \"duration\": \"DAY\",\n",
    "            \"squareoff\": \"0\",\n",
    "            \"stoploss\": \"0\",\n",
    "            \"quantity\": \"1\"\n",
    "            }\n",
    "        orderId=obj.placeOrder(orderparams)\n",
    "        print(\"{}: Buy order id: {} @ price: {}\".format(datetime.now().strftime(\"%H:%M:%S\"), orderId, p))\n",
    "        buy_arr.append(p)\n",
    "        winsound.Beep(freq, dur)\n",
    "    except Exception as e:\n",
    "        print(\"Order placement failed: {}\".format(e.message))\n",
    "        \n",
    "def sell(p):\n",
    "    winsound.Beep(freq, dur)\n",
    "    try:\n",
    "        orderparams = {\n",
    "            \"variety\": \"NORMAL\",\n",
    "            \"tradingsymbol\": \"{}\".format(symbol),\n",
    "            \"symboltoken\": \"{}\".format(t),\n",
    "            \"transactiontype\": \"SELL\",\n",
    "            \"exchange\": \"NSE\",\n",
    "            \"ordertype\": \"MARKET\",\n",
    "            \"producttype\": \"INTRADAY\",\n",
    "            \"duration\": \"DAY\",\n",
    "            \"squareoff\": \"0\",\n",
    "            \"stoploss\": \"0\",\n",
    "            \"quantity\": \"1\"\n",
    "            }\n",
    "        orderId=obj.placeOrder(orderparams)\n",
    "        print(\"{}: Sell order id: {} @ price: {}\".format(datetime.now().strftime(\"%H:%M:%S\"), orderId, p))\n",
    "        sell_arr.append(p)\n",
    "        profits.append(buy[-1]-p)\n",
    "        winsound.Beep(freq, dur)\n",
    "    except Exception as e:\n",
    "        print(\"Order placement failed: {}\".format(e.message))"
   ]
  },
  {
   "cell_type": "code",
   "execution_count": 6,
   "id": "bb784254",
   "metadata": {},
   "outputs": [],
   "source": [
    "data = []"
   ]
  },
  {
   "cell_type": "code",
   "execution_count": 7,
   "id": "photographic-assistant",
   "metadata": {},
   "outputs": [],
   "source": [
    "n = 100\n",
    "p,d,q = (5,1,0)\n",
    "\n",
    "hold = 0\n",
    "\n",
    "def data_feed(p):\n",
    "    data.append(p)\n",
    "    print(p)\n",
    "    if len(data) > n:\n",
    "        model = ARIMA(data, order=(p,d,q))\n",
    "        model_fit = model.fit(disp=0)\n",
    "        output = model_fit.forecast()\n",
    "        yhat = output[0]\n",
    "        if(yhat > 1.005*data[-1]):\n",
    "            print(\"{}: Attempted Buy order @ price: {}\".format(datetime.now().strftime(\"%H:%M:%S\"), p))\n",
    "            #buy_arr.append(p)\n",
    "            if(hold == 0):\n",
    "                buy(p)\n",
    "                hold = 1\n",
    "                winsound.Beep(freq, dur)\n",
    "        if(yhat < 0.995*data[-1]):\n",
    "            print(\"{}: Attempted Sell order @ price: {}\".format(datetime.now().strftime(\"%H:%M:%S\"), p))\n",
    "            #sell_arr.append(p)\n",
    "            if(hold > 0):\n",
    "                sell(p)\n",
    "                hold = 0\n",
    "                winsound.Beep(freq, dur)"
   ]
  },
  {
   "cell_type": "code",
   "execution_count": 8,
   "id": "clean-episode",
   "metadata": {},
   "outputs": [
    {
     "name": "stdout",
     "output_type": "stream",
     "text": [
      "__on_open################\n",
      "{'task': 'cn', 'channel': 'NONLM', 'token': '0910060934', 'user': 'S617404', 'acctid': 'S617404'}\n",
      "2021-06-03 23:40:08.635682 : Start task in the background\n",
      "{'task': 'hb', 'channel': '', 'token': '0910060934', 'user': 'S617404', 'acctid': 'S617404'}\n",
      "Error info: \n"
     ]
    }
   ],
   "source": [
    "import time, json\n",
    "from smartapi import SmartConnect, SmartWebSocket\n",
    "\n",
    "obj = SmartConnect(api_key = \"kTA2vg3s\") #trading api: kTA2vg3s; market api: qgQQJ96i \n",
    "data = obj.generateSession(\"S617404\",\"angel996@S\")\n",
    "\n",
    "CLIENT_ID = 'S617404'\n",
    "FEED_TOKEN = obj.getfeedToken()\n",
    "token = 'nse_cm|{}'.format(t) #\"nse_cm|2885&nse_cm|1594&nse_cm|11536\" ; 2885: Rel, 1594: Info, 11536: TCS; 12261: Bhel\n",
    "task = 'mw' #'mw'|'sfi'|'dp'\n",
    "\n",
    "ss = SmartWebSocket(FEED_TOKEN, CLIENT_ID)\n",
    "\n",
    "#y_data = []\n",
    "winsound.Beep(freq, dur)\n",
    "\n",
    "def on_ticks(ws, ticks):\n",
    "\t#print(\"Tick data: {}\".format(ticks))\n",
    "    try:\n",
    "        price = ticks[0]['ltp']\n",
    "        data_feed(float(price))\n",
    "        time.sleep(1)\n",
    "    except:\n",
    "        KeyError\n",
    "\n",
    "def on_connect(ws, response):\n",
    "\tprint(\"on connect\")\n",
    "\tws.send_request(token, task)\n",
    "\t#ws.subscribe([738561, 5633])\n",
    "\t#ws.set_mode(ws.MODE_FULL, [738561])\n",
    "\n",
    "def on_close(ws, code, reason):\n",
    "\tprint(\"on close\")\n",
    "\tws.stop()\n",
    "\n",
    "\n",
    "ss.on_ticks = on_ticks\n",
    "ss.on_connect = on_connect\n",
    "ss.on_close = on_close\n",
    "\n",
    "ss.connect()"
   ]
  },
  {
   "cell_type": "code",
   "execution_count": null,
   "id": "connected-velvet",
   "metadata": {},
   "outputs": [],
   "source": []
  },
  {
   "cell_type": "code",
   "execution_count": null,
   "id": "b5139785",
   "metadata": {},
   "outputs": [],
   "source": []
  },
  {
   "cell_type": "code",
   "execution_count": null,
   "id": "20152647",
   "metadata": {},
   "outputs": [],
   "source": []
  },
  {
   "cell_type": "code",
   "execution_count": null,
   "id": "7eb94d3d",
   "metadata": {},
   "outputs": [],
   "source": []
  },
  {
   "cell_type": "code",
   "execution_count": null,
   "id": "a5017177",
   "metadata": {},
   "outputs": [],
   "source": []
  },
  {
   "cell_type": "code",
   "execution_count": null,
   "id": "cbb7806b",
   "metadata": {},
   "outputs": [],
   "source": []
  },
  {
   "cell_type": "code",
   "execution_count": null,
   "id": "e5bb5311",
   "metadata": {},
   "outputs": [],
   "source": []
  },
  {
   "cell_type": "code",
   "execution_count": null,
   "id": "09e9ad12",
   "metadata": {},
   "outputs": [],
   "source": []
  }
 ],
 "metadata": {
  "kernelspec": {
   "display_name": "Python 3",
   "language": "python",
   "name": "python3"
  },
  "language_info": {
   "codemirror_mode": {
    "name": "ipython",
    "version": 3
   },
   "file_extension": ".py",
   "mimetype": "text/x-python",
   "name": "python",
   "nbconvert_exporter": "python",
   "pygments_lexer": "ipython3",
   "version": "3.7.4"
  }
 },
 "nbformat": 4,
 "nbformat_minor": 5
}
